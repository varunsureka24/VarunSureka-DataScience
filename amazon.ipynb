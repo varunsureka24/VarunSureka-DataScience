{
 "cells": [
  {
   "cell_type": "markdown",
   "metadata": {},
   "source": [
    "amazon data :)"
   ]
  },
  {
   "cell_type": "code",
   "execution_count": 20,
   "metadata": {},
   "outputs": [
    {
     "name": "stdout",
     "output_type": "stream",
     "text": [
      "\u001b[H\u001b[2Jtotal spent:  553.62\n",
      "min:  7.85\n",
      "max:  64.94\n",
      "median:  26.31\n",
      "average:  30.76\n",
      "total tax:  34.13\n",
      "effective tax rate:  1.9 %\n"
     ]
    },
    {
     "data": {
      "image/png": "[encoded data removed]",
      "text/plain": [
       "<Figure size 432x288 with 1 Axes>"
      ]
     },
     "metadata": {
      "needs_background": "light"
     },
     "output_type": "display_data"
    }
   ],
   "source": [
    "import numpy as np\n",
    "import os, csv\n",
    "import matplotlib.pyplot as plt\n",
    "os.system('clear')\n",
    "file = open('amazon.csv')\n",
    "amazonFile = csv.reader(file)\n",
    "header = next(amazonFile)\n",
    "amazon = []\n",
    "\n",
    "for row in amazonFile:\n",
    "    amazon.append(row)\n",
    "amazonArr = np.array(amazon)\n",
    "\n",
    "# total amount of money spent\n",
    "s = []\n",
    "totalSpent = 0\n",
    "for row in amazonArr:\n",
    "        val = row[20]\n",
    "        val = val[1:]\n",
    "        s.append(val)\n",
    "        totalSpent += float(val)\n",
    "print(\"total spent: \", totalSpent)\n",
    "\n",
    "#min max median average \n",
    "spent = np.array(s)\n",
    "spentF = spent.astype(float)\n",
    "print(\"min: \", round(np.amin(spentF), 2))\n",
    "print(\"max: \", round(np.amax(spentF), 2))\n",
    "print(\"median: \", round(np.median(spentF), 2))\n",
    "print(\"average: \", round(np.average(spentF), 2))\n",
    "\n",
    "# tax spent\n",
    "totalTax = 0\n",
    "for row in amazonArr:\n",
    "        val = row[19]\n",
    "        val = val[1:]\n",
    "        totalTax += float(val)\n",
    "print(\"total tax: \", round(totalTax, 2))\n",
    "print(\"effective tax rate: \", round(totalTax/18, 2), \"%\")\n",
    "\n",
    "#chart\n",
    "sev = []\n",
    "eight = []\n",
    "nine = []\n",
    "twen = []\n",
    "twen1 = []\n",
    "twen2 = []\n",
    "for row in amazonArr: #gets number of purchases per year\n",
    "        val = row[0]\n",
    "        # print(val)\n",
    "        if val[6:] == \"17\":\n",
    "                sev.append(val)\n",
    "        elif val[6:] == '18':\n",
    "                eight.append(val)\n",
    "        elif val[6:] == '19':\n",
    "                nine.append(val)\n",
    "        elif val[6:] == '20':\n",
    "                twen.append(val)\n",
    "        elif val[6:] == '21':\n",
    "                twen1.append(val)\n",
    "        else:\n",
    "                twen2.append(val)\n",
    "xAxis = [\"2017\",\"2018\",\"2019\",\"2020\",\"2021\",\"2022\"]\n",
    "yAxis = [len(sev), len(eight), len(nine), len(twen), len(twen1), len(twen2)]\n",
    "plt.bar(xAxis, yAxis)\n",
    "plt.title('# of purchases with respect to year')\n",
    "plt.xlabel('years')\n",
    "plt.ylabel('# of purchases')\n",
    "plt.show()"
   ]
  }
 ],
 "metadata": {
  "interpreter": {
   "hash": "d683bd3c49b85e35921f682a7ae57da336b8297a63961b3e9b51a88f00b3577e"
  },
  "kernelspec": {
   "display_name": "Python 3.9.7 ('base')",
   "language": "python",
   "name": "python3"
  },
  "language_info": {
   "codemirror_mode": {
    "name": "ipython",
    "version": 3
   },
   "file_extension": ".py",
   "mimetype": "text/x-python",
   "name": "python",
   "nbconvert_exporter": "python",
   "pygments_lexer": "ipython3",
   "version": "3.9.7"
  },
  "orig_nbformat": 4
 },
 "nbformat": 4,
 "nbformat_minor": 2
}
