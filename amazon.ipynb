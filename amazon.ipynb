{
 "cells": [
  {
   "cell_type": "markdown",
   "metadata": {},
   "source": [
    "amazon data :)"
   ]
  },
  {
   "cell_type": "code",
   "execution_count": 8,
   "metadata": {},
   "outputs": [
    {
     "name": "stdout",
     "output_type": "stream",
     "text": [
      "\u001b[H\u001b[2Jtotal spent:  553.62\n",
      "min:  7.85\n",
      "max:  64.94\n",
      "median:  26.31\n",
      "average:  30.76\n",
      "total tax:  34.13\n",
      "effective tax rate:  1.9 %\n"
     ]
    },
    {
     "ename": "ValueError",
     "evalue": "not enough values to unpack (expected 2, got 0)",
     "output_type": "error",
     "traceback": [
      "\u001b[0;31m---------------------------------------------------------------------------\u001b[0m",
      "\u001b[0;31mValueError\u001b[0m                                Traceback (most recent call last)",
      "\u001b[0;32m/var/folders/n0/vnd66wn11990jhbfxvsz4h2m0000gp/T/ipykernel_68660/2775545580.py\u001b[0m in \u001b[0;36m<module>\u001b[0;34m\u001b[0m\n\u001b[1;32m     40\u001b[0m \u001b[0;34m\u001b[0m\u001b[0m\n\u001b[1;32m     41\u001b[0m \u001b[0;31m#chart\u001b[0m\u001b[0;34m\u001b[0m\u001b[0;34m\u001b[0m\u001b[0m\n\u001b[0;32m---> 42\u001b[0;31m \u001b[0msev\u001b[0m \u001b[0;34m=\u001b[0m \u001b[0;34m[\u001b[0m\u001b[0;34m]\u001b[0m\u001b[0;34m,\u001b[0m \u001b[0meight\u001b[0m \u001b[0;34m=\u001b[0m \u001b[0;34m[\u001b[0m\u001b[0;34m]\u001b[0m\u001b[0;34m,\u001b[0m \u001b[0mnine\u001b[0m \u001b[0;34m=\u001b[0m \u001b[0;34m[\u001b[0m\u001b[0;34m]\u001b[0m\u001b[0;34m,\u001b[0m \u001b[0mtwen\u001b[0m \u001b[0;34m=\u001b[0m \u001b[0;34m[\u001b[0m\u001b[0;34m]\u001b[0m\u001b[0;34m,\u001b[0m \u001b[0mtwen1\u001b[0m \u001b[0;34m=\u001b[0m \u001b[0;34m[\u001b[0m\u001b[0;34m]\u001b[0m\u001b[0;34m,\u001b[0m \u001b[0mtwen2\u001b[0m \u001b[0;34m=\u001b[0m \u001b[0;34m[\u001b[0m\u001b[0;34m]\u001b[0m\u001b[0;34m\u001b[0m\u001b[0;34m\u001b[0m\u001b[0m\n\u001b[0m\u001b[1;32m     43\u001b[0m \u001b[0;32mfor\u001b[0m \u001b[0mrow\u001b[0m \u001b[0;32min\u001b[0m \u001b[0mamazonArr\u001b[0m\u001b[0;34m:\u001b[0m \u001b[0;31m#gets number of purchases per year\u001b[0m\u001b[0;34m\u001b[0m\u001b[0;34m\u001b[0m\u001b[0m\n\u001b[1;32m     44\u001b[0m         \u001b[0mrow\u001b[0m\u001b[0;34m[\u001b[0m\u001b[0;36m0\u001b[0m\u001b[0;34m]\u001b[0m \u001b[0;34m=\u001b[0m \u001b[0mval\u001b[0m\u001b[0;34m\u001b[0m\u001b[0;34m\u001b[0m\u001b[0m\n",
      "\u001b[0;31mValueError\u001b[0m: not enough values to unpack (expected 2, got 0)"
     ]
    }
   ],
   "source": [
    "import numpy as np\n",
    "import os, csv\n",
    "import matplotlib.pyplot as plt\n",
    "os.system('clear')\n",
    "file = open('amazon.csv')\n",
    "amazonFile = csv.reader(file)\n",
    "header = next(amazonFile)\n",
    "amazon = []\n",
    "\n",
    "for row in amazonFile:\n",
    "    amazon.append(row)\n",
    "amazonArr = np.array(amazon)\n",
    "\n",
    "# total amount of money spent\n",
    "s = []\n",
    "totalSpent = 0\n",
    "for row in amazonArr:\n",
    "        val = row[20]\n",
    "        val = val[1:]\n",
    "        s.append(val)\n",
    "        totalSpent += float(val)\n",
    "print(\"total spent: \", totalSpent)\n",
    "\n",
    "#min max median average \n",
    "spent = np.array(s)\n",
    "spentF = spent.astype(float)\n",
    "print(\"min: \", round(np.amin(spentF), 2))\n",
    "print(\"max: \", round(np.amax(spentF), 2))\n",
    "print(\"median: \", round(np.median(spentF), 2))\n",
    "print(\"average: \", round(np.average(spentF), 2))\n",
    "\n",
    "# tax spent\n",
    "totalTax = 0\n",
    "for row in amazonArr:\n",
    "        val = row[19]\n",
    "        val = val[1:]\n",
    "        totalTax += float(val)\n",
    "print(\"total tax: \", round(totalTax, 2))\n",
    "print(\"effective tax rate: \", round(totalTax/18, 2), \"%\")\n",
    "\n",
    "#chart\n",
    "sev = [], eight = [], nine = [], twen = [], twen1 = [], twen2 = []\n",
    "for row in amazonArr: #gets number of purchases per year\n",
    "        row[0] = val\n",
    "        if val[6:] == '17':\n",
    "                sev.append(val)\n",
    "        elif val[6:] == '18':\n",
    "                eight.append(val)\n",
    "        elif val[6:] == '19':\n",
    "                nine.append(val)\n",
    "        elif val[6:] == '20':\n",
    "                twen.append(val)\n",
    "        elif val[6:] == '21':\n",
    "                twen1.append(val)\n",
    "        else:\n",
    "                twen2.append(val)\n",
    "xAxis = [\"2017\",\"2018\",\"2019\",\"2020\",\"2021\",\"2022\"]\n",
    "yAxis = [sev, eight, nine, twen, twen1, twen2]\n",
    "plt.bar(xAxis,yAxis)\n",
    "plt.title('# of purchases with respect to year')\n",
    "plt.xlabel('years')\n",
    "plt.ylabel('# of purchases')\n",
    "plt.show()"
   ]
  }
 ],
 "metadata": {
  "interpreter": {
   "hash": "d683bd3c49b85e35921f682a7ae57da336b8297a63961b3e9b51a88f00b3577e"
  },
  "kernelspec": {
   "display_name": "Python 3.9.7 ('base')",
   "language": "python",
   "name": "python3"
  },
  "language_info": {
   "codemirror_mode": {
    "name": "ipython",
    "version": 3
   },
   "file_extension": ".py",
   "mimetype": "text/x-python",
   "name": "python",
   "nbconvert_exporter": "python",
   "pygments_lexer": "ipython3",
   "version": "3.9.7"
  },
  "orig_nbformat": 4
 },
 "nbformat": 4,
 "nbformat_minor": 2
}
