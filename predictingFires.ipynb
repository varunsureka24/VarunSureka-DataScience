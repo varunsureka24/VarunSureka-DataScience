{
 "cells": [
  {
   "cell_type": "markdown",
   "metadata": {},
   "source": [
    "Add a data set of temperature\n",
    "\n",
    "How have the areas affected by wildfires changed over time? Is there a correlation between fire size and yearly temperature?\n",
    "\n",
    "I picked this data set because it was the most comprehensive one that I could find. Most of the other ones only covered the last couple of years, but this one covers the past 50 years."
   ]
  },
  {
   "cell_type": "markdown",
   "metadata": {},
   "source": [
    "First I clean the data set. By removing collumns that don't offer any beneficial information, I make the dataset easier to work with and only keep necessary informaton."
   ]
  },
  {
   "cell_type": "code",
   "execution_count": 117,
   "metadata": {},
   "outputs": [
    {
     "name": "stdout",
     "output_type": "stream",
     "text": [
      "\u001b[H\u001b[2J"
     ]
    },
    {
     "name": "stderr",
     "output_type": "stream",
     "text": [
      "/var/folders/n0/vnd66wn11990jhbfxvsz4h2m0000gp/T/ipykernel_69591/3340913498.py:52: SettingWithCopyWarning: \n",
      "A value is trying to be set on a copy of a slice from a DataFrame.\n",
      "Try using .loc[row_indexer,col_indexer] = value instead\n",
      "\n",
      "See the caveats in the documentation: https://pandas.pydata.org/pandas-docs/stable/user_guide/indexing.html#returning-a-view-versus-a-copy\n",
      "  data2['GIS_ACRES'] = data2['GIS_ACRES'].dropna().astype(int)\n",
      "/var/folders/n0/vnd66wn11990jhbfxvsz4h2m0000gp/T/ipykernel_69591/3340913498.py:60: SettingWithCopyWarning: \n",
      "A value is trying to be set on a copy of a slice from a DataFrame.\n",
      "Try using .loc[row_indexer,col_indexer] = value instead\n",
      "\n",
      "See the caveats in the documentation: https://pandas.pydata.org/pandas-docs/stable/user_guide/indexing.html#returning-a-view-versus-a-copy\n",
      "  data2['GIS_ACRES'] = data2['GIS_ACRES'].dropna().astype(int)\n",
      "/var/folders/n0/vnd66wn11990jhbfxvsz4h2m0000gp/T/ipykernel_69591/3340913498.py:71: SettingWithCopyWarning: \n",
      "A value is trying to be set on a copy of a slice from a DataFrame.\n",
      "Try using .loc[row_indexer,col_indexer] = value instead\n",
      "\n",
      "See the caveats in the documentation: https://pandas.pydata.org/pandas-docs/stable/user_guide/indexing.html#returning-a-view-versus-a-copy\n",
      "  hdata2['Mon-Yr'] = pd.DatetimeIndex(hdata2['Mon-Yr']).year\n"
     ]
    },
    {
     "data": {
      "image/png": "[encoded data removed]",
      "text/plain": [
       "<Figure size 432x288 with 1 Axes>"
      ]
     },
     "metadata": {
      "needs_background": "light"
     },
     "output_type": "display_data"
    }
   ],
   "source": [
    "import pandas as pd\n",
    "import os; os.system('clear')\n",
    "import numpy as np\n",
    "import matplotlib.pyplot as plt\n",
    "\n",
    "data = pd.read_csv(\"California Fires.csv\")\n",
    "\n",
    "data.drop('OBJECTID', inplace=True, axis = 1)\n",
    "data.drop('STATE', inplace=True, axis = 1)\n",
    "data.drop('AGENCY', inplace=True, axis = 1)\n",
    "data.drop('UNIT_ID', inplace=True, axis = 1)\n",
    "data.drop('ALARM_DATE', inplace=True, axis = 1)\n",
    "data.drop('CONT_DATE', inplace=True, axis = 1)\n",
    "data.drop('INC_NUM', inplace=True, axis = 1)\n",
    "data.drop('CAUSE', inplace=True, axis = 1)\n",
    "data.drop('COMMENTS', inplace=True, axis = 1)\n",
    "data.drop('FIRE_NUM', inplace=True, axis = 1)\n",
    "data.drop('REPORT_AC', inplace=True, axis = 1)\n",
    "data.drop('C_METHOD', inplace=True, axis = 1)\n",
    "data.drop('OBJECTIVE', inplace=True, axis = 1)\n",
    "\n",
    "# print(data.head())\n",
    "# data.describe(include= \"all\")\n",
    "\n",
    "data = data.replace(\" \", np.nan)\n",
    "data = data.replace(\"UKNOWN\", np.nan)\n",
    "data2 = data.dropna(subset=['FIRE_NAME'])\n",
    "\n",
    "#areas that have the most fires over the years.\n",
    "firesPerYear = data.groupby('FIRE_NAME')['YEAR_'].count()\n",
    "firesPerYear = firesPerYear.to_frame()\n",
    "firesPerYear.reset_index(level=0, inplace=True)\n",
    "firesPerYear.sort_values(by= ['YEAR_'],inplace=True, ascending= False)\n",
    "# plt.plot(firesPerYear)\n",
    "# plt.title('Most Frequent Fire Locations', fontsize=20) \n",
    "# plt.xlabel('Locations', fontsize=12) \n",
    "# plt.ylabel('Frequenct', fontsize=12)\n",
    "\n",
    "# print(firesPerYear)\n",
    "# firesPerYear.head()\n",
    "\n",
    "#fires overall throught the years\n",
    "fireYearTotals = data.groupby('YEAR_')['SHAPE_Length'].count()\n",
    "fireYearTotals = fireYearTotals.to_frame()\n",
    "fireYearTotals.reset_index(level=0, inplace=True)\n",
    "plt.scatter(fireYearTotals['YEAR_'], fireYearTotals['SHAPE_Length'])\n",
    "plt.title('California Forest Fires Over the Years', fontsize=20) \n",
    "plt.xlabel('Years', fontsize=12) \n",
    "plt.ylabel('Number of Forest Fires', fontsize=12)\n",
    "\n",
    "#How many Acres were burned each year\n",
    "data2['GIS_ACRES'] = data2['GIS_ACRES'].dropna().astype(int)\n",
    "fireSize = data2.groupby('YEAR_')['GIS_ACRES'].sum()\n",
    "# plt.plot(fireSize)\n",
    "# plt.title('Fire Sizes Per Year', fontsize=20) \n",
    "# plt.xlabel('Years', fontsize=12) \n",
    "# plt.ylabel('Fire Size', fontsize=12)\n",
    "\n",
    "#Average Fire size\n",
    "data2['GIS_ACRES'] = data2['GIS_ACRES'].dropna().astype(int)\n",
    "AvSize = data2.groupby('YEAR_')['GIS_ACRES'].mean()\n",
    "# plt.plot(AvSize)\n",
    "# plt.title('Average Fire Size Per Year', fontsize=20) \n",
    "# plt.xlabel('Years', fontsize=12) \n",
    "# plt.ylabel('Average Fire Size', fontsize=12)\n",
    "\n",
    "#do the housing CSV here\n",
    "hdata = pd.read_excel(\"housing.xlsx\")\n",
    "hdata = hdata.replace(\" \", np.nan)\n",
    "hdata2 = hdata.dropna(subset=['CA'])\n",
    "hdata2['Mon-Yr'] = pd.DatetimeIndex(hdata2['Mon-Yr']).year\n",
    "housing = hdata2[['Mon-Yr','CA']]\n",
    "housingChangePerYear = housing.groupby('Mon-Yr')['CA'].sum()\n",
    "housingChangePerYear = housingChangePerYear.to_frame()\n",
    "housingChangePerYear.reset_index(level=0, inplace=True)\n",
    "# print(housingChangePerYear)\n",
    "\n",
    "#how the the housing rates have changed from year to year\n",
    "# plt.plot(housingChangePerYear['Mon-Yr'], housingChangePerYear['CA'])\n",
    "# plt.title('Housing Changes (1991-2022)', fontsize=20) \n",
    "# plt.xlabel('Years', fontsize=12) \n",
    "# plt.ylabel('Housing Percent Change', fontsize=12)"
   ]
  },
  {
   "cell_type": "markdown",
   "metadata": {},
   "source": []
  },
  {
   "cell_type": "code",
   "execution_count": null,
   "metadata": {},
   "outputs": [],
   "source": []
  }
 ],
 "metadata": {
  "interpreter": {
   "hash": "d683bd3c49b85e35921f682a7ae57da336b8297a63961b3e9b51a88f00b3577e"
  },
  "kernelspec": {
   "display_name": "Python 3.9.7 ('base')",
   "language": "python",
   "name": "python3"
  },
  "language_info": {
   "codemirror_mode": {
    "name": "ipython",
    "version": 3
   },
   "file_extension": ".py",
   "mimetype": "text/x-python",
   "name": "python",
   "nbconvert_exporter": "python",
   "pygments_lexer": "ipython3",
   "version": "3.9.7"
  },
  "orig_nbformat": 4
 },
 "nbformat": 4,
 "nbformat_minor": 2
}
