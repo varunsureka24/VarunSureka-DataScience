{
 "cells": [
  {
   "cell_type": "markdown",
   "metadata": {},
   "source": [
    "Add a data set of temperature\n",
    "\n",
    "How have the areas affected by wildfires changed over time? Is there a correlation between fire size and yearly temperature?\n",
    "\n",
    "I picked this data set because it was the most comprehensive one that I could find. Most of the other ones only covered the last couple of years, but this one covers the past 50 years."
   ]
  },
  {
   "cell_type": "markdown",
   "metadata": {},
   "source": [
    "First I clean the data set. By removing collumns that don't offer any beneficial information, I make the dataset easier to work with and only keep necessary informaton."
   ]
  },
  {
   "cell_type": "code",
   "execution_count": 16,
   "metadata": {},
   "outputs": [
    {
     "name": "stdout",
     "output_type": "stream",
     "text": [
      "\u001b[H\u001b[2J   YEAR_ FIRE_NAME  GIS_ACRES  SHAPE_Length    SHAPE_Area\n",
      "0   2020    NELSON  109.60250   4179.743142 -7.331347e+05\n",
      "1   2020   AMORUSO  685.58502  12399.375390 -4.578172e+06\n",
      "2   2020    ATHENS   27.30048   2119.194120 -1.823876e+05\n",
      "3   2020   FLEMING   12.93155   2029.524881 -8.667942e+04\n",
      "4   2020  MELANESE   10.31596   1342.742903 -7.017912e+04\n",
      "YEAR_\n",
      "1950    227\n",
      "1951    221\n",
      "1952    173\n",
      "1953    217\n",
      "1954    158\n",
      "       ... \n",
      "2016    352\n",
      "2017    607\n",
      "2018    413\n",
      "2019    312\n",
      "2020    500\n",
      "Name: SHAPE_Length, Length: 71, dtype: int64\n"
     ]
    },
    {
     "data": {
      "text/html": [
       "<div>\n",
       "<style scoped>\n",
       "    .dataframe tbody tr th:only-of-type {\n",
       "        vertical-align: middle;\n",
       "    }\n",
       "\n",
       "    .dataframe tbody tr th {\n",
       "        vertical-align: top;\n",
       "    }\n",
       "\n",
       "    .dataframe thead th {\n",
       "        text-align: right;\n",
       "    }\n",
       "</style>\n",
       "<table border=\"1\" class=\"dataframe\">\n",
       "  <thead>\n",
       "    <tr style=\"text-align: right;\">\n",
       "      <th></th>\n",
       "      <th>YEAR_</th>\n",
       "      <th>SHAPE_Length</th>\n",
       "    </tr>\n",
       "  </thead>\n",
       "  <tbody>\n",
       "    <tr>\n",
       "      <th>0</th>\n",
       "      <td>1950</td>\n",
       "      <td>227</td>\n",
       "    </tr>\n",
       "    <tr>\n",
       "      <th>1</th>\n",
       "      <td>1951</td>\n",
       "      <td>221</td>\n",
       "    </tr>\n",
       "    <tr>\n",
       "      <th>2</th>\n",
       "      <td>1952</td>\n",
       "      <td>173</td>\n",
       "    </tr>\n",
       "    <tr>\n",
       "      <th>3</th>\n",
       "      <td>1953</td>\n",
       "      <td>217</td>\n",
       "    </tr>\n",
       "    <tr>\n",
       "      <th>4</th>\n",
       "      <td>1954</td>\n",
       "      <td>158</td>\n",
       "    </tr>\n",
       "  </tbody>\n",
       "</table>\n",
       "</div>"
      ],
      "text/plain": [
       "   YEAR_  SHAPE_Length\n",
       "0   1950           227\n",
       "1   1951           221\n",
       "2   1952           173\n",
       "3   1953           217\n",
       "4   1954           158"
      ]
     },
     "execution_count": 16,
     "metadata": {},
     "output_type": "execute_result"
    }
   ],
   "source": [
    "import pandas as pd\n",
    "import os; os.system('clear')\n",
    "import numpy as np\n",
    "import matplotlib.pyplot as plt\n",
    "\n",
    "data = pd.read_csv(\"California Fires.csv\")\n",
    "\n",
    "data.drop('OBJECTID', inplace=True, axis = 1)\n",
    "data.drop('STATE', inplace=True, axis = 1)\n",
    "data.drop('AGENCY', inplace=True, axis = 1)\n",
    "data.drop('UNIT_ID', inplace=True, axis = 1)\n",
    "data.drop('ALARM_DATE', inplace=True, axis = 1)\n",
    "data.drop('CONT_DATE', inplace=True, axis = 1)\n",
    "data.drop('INC_NUM', inplace=True, axis = 1)\n",
    "data.drop('CAUSE', inplace=True, axis = 1)\n",
    "data.drop('COMMENTS', inplace=True, axis = 1)\n",
    "data.drop('FIRE_NUM', inplace=True, axis = 1)\n",
    "data.drop('REPORT_AC', inplace=True, axis = 1)\n",
    "data.drop('C_METHOD', inplace=True, axis = 1)\n",
    "data.drop('OBJECTIVE', inplace=True, axis = 1)\n",
    "\n",
    "print(data.head())\n",
    "data.describe(include= \"all\")\n",
    "\n",
    "firesPerYear = data.groupby('YEAR_')['SHAPE_Length'].count()\n",
    "print(firesPerYear)\n",
    "firesPerYear = firesPerYear.to_frame()\n",
    "firesPerYear.reset_index(level=0, inplace=True)\n",
    "firesPerYear.head()\n",
    "\n",
    "plt.bar(firesPerYear['YEAR_'], firesPerYear['SHAPE_Length'])"
   ]
  }
 ],
 "metadata": {
  "interpreter": {
   "hash": "d683bd3c49b85e35921f682a7ae57da336b8297a63961b3e9b51a88f00b3577e"
  },
  "kernelspec": {
   "display_name": "Python 3.9.7 ('base')",
   "language": "python",
   "name": "python3"
  },
  "language_info": {
   "codemirror_mode": {
    "name": "ipython",
    "version": 3
   },
   "file_extension": ".py",
   "mimetype": "text/x-python",
   "name": "python",
   "nbconvert_exporter": "python",
   "pygments_lexer": "ipython3",
   "version": "3.9.7"
  },
  "orig_nbformat": 4
 },
 "nbformat": 4,
 "nbformat_minor": 2
}
