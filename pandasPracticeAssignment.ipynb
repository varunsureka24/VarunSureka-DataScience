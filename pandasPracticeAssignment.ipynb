{
 "cells": [
  {
   "cell_type": "code",
   "execution_count": null,
   "metadata": {},
   "outputs": [],
   "source": [
    "# -*- coding: utf-8 -*-\n",
    "import pandas as pd \n",
    "import os\n",
    "os.system('clear')\n",
    "\n",
    "#Store DF\n",
    "StoreListColumns = ['Product ID', 'Product Name', 'Color']\n",
    "StoreList = [[1,'San Diego', 100],[2,'Los Angeles', 120],[3,'San Francisco', 90], [4,'Sacramento', 115]]\n",
    "df2 = pd.DataFrame(StoreList, columns= StoreListColumns)\n",
    "\n",
    "#Wardrobe DF\n",
    "WardrobeColumns = ['Product ID', 'Product Name', 'Colors']\n",
    "WardrobeList = [[1,'T-Shirt', 'Blue'],[2,'T-Shirt','Green'],[3,'skirt','red'],[4,'skirt', 'black']]\n",
    "df1 = pd.DataFrame(WardrobeList, columns= WardrobeColumns)\n",
    "\n",
    "#Insurance Data\n",
    "InsuranceDF = pd.read_csv('insurance_data.csv')\n",
    "\n",
    "InsuranceDF['sex'].replace(to_replace = 'female', value = 0,inplace=True)\n",
    "InsuranceDF['sex'].replace(to_replace = 'male', value = 1,inplace=True)\n",
    "InsuranceDF['smoker'].replace(to_replace = 'no', value = 0,inplace=True)\n",
    "InsuranceDF['smoker'].replace(to_replace = 'yes', value = 1,inplace=True)\n",
    "\n",
    "insurance_cost = 250*(InsuranceDF['age']) - 128*(InsuranceDF['sex']) + 370*(InsuranceDF['bmi']) + 425*(InsuranceDF['children']) + 24000*(InsuranceDF['smoker']) - 12500\n",
    "\n",
    "InsuranceDF['cost'] = insurance_cost\n",
    "\n",
    "\n",
    "#DF to CSV FIle\n",
    "df1.to_csv('PandasWardrobe.csv')"
   ]
  }
 ],
 "metadata": {
  "interpreter": {
   "hash": "d683bd3c49b85e35921f682a7ae57da336b8297a63961b3e9b51a88f00b3577e"
  },
  "kernelspec": {
   "display_name": "Python 3.9.7 ('base')",
   "language": "python",
   "name": "python3"
  },
  "language_info": {
   "codemirror_mode": {
    "name": "ipython",
    "version": 3
   },
   "file_extension": ".py",
   "mimetype": "text/x-python",
   "name": "python",
   "nbconvert_exporter": "python",
   "pygments_lexer": "ipython3",
   "version": "3.9.7"
  },
  "orig_nbformat": 4
 },
 "nbformat": 4,
 "nbformat_minor": 2
}
